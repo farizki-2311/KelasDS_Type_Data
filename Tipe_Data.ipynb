{
 "cells": [
  {
   "cell_type": "markdown",
   "id": "d017b744",
   "metadata": {},
   "source": [
    "# Integer (***Numeric***)"
   ]
  },
  {
   "cell_type": "code",
   "execution_count": null,
   "id": "e090ce88",
   "metadata": {},
   "outputs": [],
   "source": [
    "a = 5\n",
    "b = -12\n",
    "c = 0"
   ]
  },
  {
   "cell_type": "markdown",
   "id": "5071060d",
   "metadata": {},
   "source": [
    "## Operasi Matematika dengan Integer\n",
    "Python mendukung berbagai operasi matematika yang melibatkan integer, seperti penjumlahan, pengurangan, perkalian, pembagian, modulo, eksponen, dan pembagian integer."
   ]
  },
  {
   "cell_type": "code",
   "execution_count": 4,
   "id": "11a36cad",
   "metadata": {},
   "outputs": [],
   "source": [
    "x = 10\n",
    "y = 3\n",
    "\n",
    "# Penjumlahan\n",
    "z = x + y  # z = 13\n",
    "\n",
    "# Pengurangan\n",
    "z = x - y  # z = 7\n",
    "\n",
    "# Perkalian\n",
    "z = x * y  # z = 30\n",
    "\n",
    "# Pembagian\n",
    "z = x / y  # z = 3.3333333333333335 (hasilnya akan berupa float)\n",
    "\n",
    "# Modulo (sisa pembagian)\n",
    "z = x % y  # z = 1\n",
    "\n",
    "# Eksponen (pangkat)\n",
    "z = x ** y  # z = 1000\n",
    "\n",
    "# Pembagian integer (dibulatkan ke bawah)\n",
    "z = x // y  # z = 3"
   ]
  },
  {
   "cell_type": "markdown",
   "id": "9d330711",
   "metadata": {},
   "source": [
    "## Fungsi-fungsi Integer\n",
    "Python menyediakan beberapa fungsi bawaan yang dapat digunakan untuk melakukan operasi pada integer, seperti abs(), round(), min(), max(), dan divmod()."
   ]
  },
  {
   "cell_type": "code",
   "execution_count": 10,
   "id": "f119c09a",
   "metadata": {},
   "outputs": [],
   "source": [
    "x = -100\n",
    "y = 3\n",
    "\n",
    "# Nilai absolut\n",
    "z = abs(x)  # z = 5\n",
    "\n",
    "# Pembulatan\n",
    "z = round(3.7)  # z = 4\n",
    "\n",
    "# Nilai minimum\n",
    "z = min(x, y)  # z = -5\n",
    "\n",
    "# Nilai maksimum\n",
    "z = max(x, y)  # z = 3\n",
    "\n",
    "# Pembagian dan sisa pembagian\n",
    "z = divmod(x, y)  # z = (-2, 1)"
   ]
  },
  {
   "cell_type": "markdown",
   "id": "cfbf34b1",
   "metadata": {},
   "source": [
    "## Konversi Tipe Data Integer\n",
    "Python memungkinkan Anda untuk mengkonversi tipe data ke tipe data lain menggunakan fungsi seperti int(), float(), dan str().\n",
    "\n",
    "Catatan: Ketika mengkonversi string ke integer, pastikan string tersebut hanya berisi angka. Jika tidak, Anda akan mendapatkan ValueError."
   ]
  },
  {
   "cell_type": "code",
   "execution_count": 12,
   "id": "a7c1c06e",
   "metadata": {},
   "outputs": [],
   "source": [
    "# Mengkonversi float ke integer\n",
    "x = 3.7\n",
    "y = int(x)  # y = 3 (dibulatkan ke bawah)\n",
    "\n",
    "# Mengkonversi string ke integer\n",
    "x = \"123\"\n",
    "y = int(x)  # y = 123"
   ]
  },
  {
   "cell_type": "markdown",
   "id": "eabe4431",
   "metadata": {},
   "source": [
    "# Float (***Numeric***)"
   ]
  },
  {
   "cell_type": "code",
   "execution_count": null,
   "id": "02ca9ea0",
   "metadata": {},
   "outputs": [],
   "source": [
    "a = 3.14\n",
    "b = -0.5\n",
    "c = 1.23e-4  # 0.000123"
   ]
  },
  {
   "cell_type": "markdown",
   "id": "45ddbda9",
   "metadata": {},
   "source": [
    "## Operasi Matematika dengan Float\n",
    "Python mendukung berbagai operasi matematika yang melibatkan float, seperti penjumlahan, pengurangan, perkalian, pembagian, modulo, eksponen, dan pembagian integer."
   ]
  },
  {
   "cell_type": "code",
   "execution_count": null,
   "id": "849e1f5b",
   "metadata": {},
   "outputs": [],
   "source": [
    "x = 10.5\n",
    "y = 3.2\n",
    "\n",
    "# Penjumlahan\n",
    "z = x + y  # z = 13.7\n",
    "\n",
    "# Pengurangan\n",
    "z = x - y  # z = 7.3\n",
    "\n",
    "# Perkalian\n",
    "z = x * y  # z = 33.6\n",
    "\n",
    "# Pembagian\n",
    "z = x / y  # z = 3.28125\n",
    "\n",
    "# Modulo (sisa pembagian)\n",
    "z = x % y  # z = 1.1\n",
    "\n",
    "# Eksponen (pangkat)\n",
    "z = x ** y  # z = 2538.6177880185014\n",
    "\n",
    "# Pembagian integer (dibulatkan ke bawah)\n",
    "z = x // y  # z = 3.0\n"
   ]
  },
  {
   "cell_type": "markdown",
   "id": "26f189b9",
   "metadata": {},
   "source": [
    "## Fungsi-fungsi Float\n",
    "Sama seperti Integer Python menyediakan beberapa fungsi bawaan yang dapat digunakan untuk melakukan operasi pada float, seperti abs(), round(), min(), max(), dan divmod()."
   ]
  },
  {
   "cell_type": "code",
   "execution_count": null,
   "id": "7b29a729",
   "metadata": {},
   "outputs": [],
   "source": [
    "x = -5.5\n",
    "y = 3.7\n",
    "\n",
    "# Nilai absolut\n",
    "z = abs(x)  # z = 5.5\n",
    "\n",
    "# Pembulatan\n",
    "z = round(3.7)  # z = 4\n",
    "\n",
    "# Nilai minimum\n",
    "z = min(x, y)  # z = -5.5\n",
    "\n",
    "# Nilai maksimum\n",
    "z = max(x, y)  # z = 3.7\n",
    "\n",
    "# Pembagian dan sisa pembagian\n",
    "z = divmod(x, y)  # z = (-2.0, 2.3)"
   ]
  },
  {
   "cell_type": "markdown",
   "id": "dd7a8c8e",
   "metadata": {},
   "source": [
    "## Konversi Tipe Data Float\n",
    "Python memungkinkan Anda untuk mengkonversi tipe data ke tipe data lain menggunakan fungsi seperti int(), float(), dan str().\n",
    "\n",
    "Catatan: Ketika mengkonversi string ke float, pastikan string tersebut hanya berisi angka dan titik desimal. Jika tidak, Anda akan mendapatkan ValueError."
   ]
  },
  {
   "cell_type": "code",
   "execution_count": null,
   "id": "fd4f42d3",
   "metadata": {},
   "outputs": [],
   "source": [
    "# Mengkonversi integer ke float\n",
    "x = 3\n",
    "y = float(x)  # y = 3.0\n",
    "\n",
    "# Mengkonversi string ke float\n",
    "x = \"3.14\"\n",
    "y = float(x)  # y = 3.14"
   ]
  },
  {
   "cell_type": "markdown",
   "id": "96b824a8",
   "metadata": {},
   "source": [
    "# String (***Sequence***)"
   ]
  },
  {
   "cell_type": "markdown",
   "id": "6b3c0011",
   "metadata": {},
   "source": [
    "## Mendefinisikan String\n",
    "\n",
    "Untuk mendefinisikan string, Anda cukup mengapit teks dengan tanda kutip tunggal atau kutip ganda:"
   ]
  },
  {
   "cell_type": "code",
   "execution_count": null,
   "id": "41778578",
   "metadata": {},
   "outputs": [],
   "source": [
    "s1 = 'Hello, World!'\n",
    "s2 = \"Python Programming\""
   ]
  },
  {
   "cell_type": "markdown",
   "id": "65976213",
   "metadata": {},
   "source": [
    "## Mengakses Elemen String\n",
    "Anda dapat mengakses elemen string menggunakan indeks. Indeks dimulai dari 0 untuk karakter pertama, 1 untuk karakter kedua, dan seterusnya:"
   ]
  },
  {
   "cell_type": "code",
   "execution_count": 3,
   "id": "02d344e0",
   "metadata": {},
   "outputs": [
    {
     "data": {
      "text/plain": [
       "'!'"
      ]
     },
     "execution_count": 3,
     "metadata": {},
     "output_type": "execute_result"
    }
   ],
   "source": [
    "s = 'Hello, World!'\n",
    "first_char = s[0]  # 'H'\n",
    "second_char = s[1]  # 'e'\n",
    "last_char = s[-1]\n",
    "last_char"
   ]
  },
  {
   "cell_type": "markdown",
   "id": "28be18c1",
   "metadata": {},
   "source": [
    "## Slicing String\n",
    "Anda dapat mengakses sebagian dari string dengan menggunakan slicing. Slicing memungkinkan Anda untuk memotong string dan menghasilkan substring:"
   ]
  },
  {
   "cell_type": "code",
   "execution_count": null,
   "id": "4b0f30e6",
   "metadata": {},
   "outputs": [],
   "source": [
    "s = \"Hello, World!\"\n",
    "substring = s[0:5]  # \"Hello\""
   ]
  },
  {
   "cell_type": "markdown",
   "id": "97ac0774",
   "metadata": {},
   "source": [
    "## Panjang String\n",
    "Untuk mengetahui panjang string, Anda dapat menggunakan fungsi bawaan ***len()***:"
   ]
  },
  {
   "cell_type": "code",
   "execution_count": null,
   "id": "c8928379",
   "metadata": {},
   "outputs": [],
   "source": [
    "s = \"Hello, World!\"\n",
    "length = len(s)  # 13"
   ]
  },
  {
   "cell_type": "markdown",
   "id": "87d2a23d",
   "metadata": {},
   "source": [
    "## Operasi String\n",
    "Python mendukung berbagai operasi pada string, seperti penggabungan (concatenation) dan pengulangan (repetition):"
   ]
  },
  {
   "cell_type": "code",
   "execution_count": null,
   "id": "067af458",
   "metadata": {},
   "outputs": [],
   "source": [
    "s1 = \"Hello\"\n",
    "s2 = \"World\"\n",
    "\n",
    "# Penggabungan (concatenation)\n",
    "s3 = s1 + \" \" + s2  # \"Hello World\"\n",
    "\n",
    "# Pengulangan (repetition)\n",
    "s4 = s1 * 3  # \"HelloHelloHello\""
   ]
  },
  {
   "cell_type": "markdown",
   "id": "9510c17e",
   "metadata": {},
   "source": [
    "## Metode String\n",
    "Python menyediakan sejumlah metode bawaan untuk memanipulasi string, seperti ***lower()***, ***upper()***, ***strip()***, ***replace()***, ***find()***, dan ***split()***:\n"
   ]
  },
  {
   "cell_type": "code",
   "execution_count": null,
   "id": "47ea1631",
   "metadata": {},
   "outputs": [],
   "source": [
    "s = \"Hello, World!\"\n",
    "\n",
    "# Mengubah ke huruf kecil\n",
    "lowercase = s.lower()  # \"hello, world!\"\n",
    "\n",
    "# Mengubah ke huruf besar\n",
    "uppercase = s.upper()  # \"HELLO, WORLD!\"\n",
    "\n",
    "# Menghilangkan spasi di awal dan akhir string\n",
    "trimmed = \" Hello, World! \".strip()  # \"Hello, World!\"\n",
    "\n",
    "# Menggantikan substring\n",
    "replaced = s.replace(\"World\", \"Python\")  # \"Hello, Python!\"\n",
    "\n",
    "# Mencari indeks substring\n",
    "index = s.find(\"World\")  # 7\n",
    "\n",
    "# Memecah string menjadi list\n",
    "words = s.split()  # ['Hello,', 'World!']"
   ]
  },
  {
   "cell_type": "markdown",
   "id": "75f674c2",
   "metadata": {},
   "source": [
    "## String Immutability\n",
    "String adalah tipe data immutable, yang berarti Anda tidak dapat mengubah elemen string setelah string tersebut dibuat. Jika Anda mencoba mengubah elemen string, Python akan menghasilkan kesalahan:"
   ]
  },
  {
   "cell_type": "code",
   "execution_count": 15,
   "id": "cad3d3d1",
   "metadata": {},
   "outputs": [],
   "source": [
    "s = \"Hello, World!\"\n",
    "# s[0] = 'h'  # TypeError: 'str' object does not support item assignment"
   ]
  },
  {
   "cell_type": "markdown",
   "id": "7c1643d1",
   "metadata": {},
   "source": [
    "Untuk mengubah string, Anda harus membuat string baru dengan memanipulasi string asli menggunakan operasi atau metode string, seperti yang telah dijelaskan sebelumnya. Misalnya, jika Anda ingin menggantikan karakter pertama string 's' dengan 'h', Anda bisa melakukan hal berikut:"
   ]
  },
  {
   "cell_type": "code",
   "execution_count": 5,
   "id": "c453f62f",
   "metadata": {
    "scrolled": true
   },
   "outputs": [
    {
     "data": {
      "text/plain": [
       "'hello, World!'"
      ]
     },
     "execution_count": 5,
     "metadata": {},
     "output_type": "execute_result"
    }
   ],
   "source": [
    "s = \"Hello, World!\"\n",
    "new_s = 'h' + s[1:]  # \"hello, World!\"\n",
    "new_s"
   ]
  },
  {
   "cell_type": "markdown",
   "id": "dafbee06",
   "metadata": {},
   "source": [
    "Dalam contoh ini, kita membuat string baru 'new_s' dengan menggabungkan karakter 'h' dan elemen string 's' mulai dari indeks 1 hingga akhir. String asli 's' tidak berubah, tetapi kita memiliki string baru yang dihasilkan dengan perubahan yang diinginkan."
   ]
  },
  {
   "cell_type": "markdown",
   "id": "25c9a67d",
   "metadata": {},
   "source": [
    "### Question\n",
    "\n",
    "<<>>\n",
    "\n",
    "jika di amati dari code: <br>\n",
    "***s = \"Hello, World!\"***\"<br>\n",
    "maka s[0] yang diambil adalah 'H' namun bukankah pada variable <br>\n",
    "***new_s = 'h' + s[1:]***<br>\n",
    "***new_s*** seharusnya ***'h' + s[0:] ?***<br>\n",
    "jika kita mengakses karakter ke 0 dari variable s, maka H tidak akan berubah menjadi h, hasilnya nnt akan menjadi \"hHello World\"\n",
    "\n",
    "<!-- Ketika kita mengakses elemen pada indeks 0 dari string s, kita mendapatkan karakter pertama, yaitu 'H'. Kode yang diberikan di bawah ini menggantikan karakter pertama dengan karakter 'h':\n",
    "\n",
    "s = \"Hello, World!\"<br>\n",
    "new_s = 'h' + s[1:]  # \"hello, World!\"<br>\n",
    "\n",
    "Berikut penjelasan langkah demi langkah tentang apa yang terjadi dalam kode di atas:\n",
    "\n",
    "s[1:] mengambil elemen string s mulai dari indeks 1 hingga akhir, yaitu \"ello, World!\".\n",
    "Kemudian kita menggabungkan karakter 'h' dengan substring yang dihasilkan, yaitu \"ello, World!\".\n",
    "Hasil penggabungan ini adalah \"h\" + \"ello, World!\" = \"hello, World!\".\n",
    "Jadi, kita menggantikan karakter pertama (s[0]) dari string asli 's' dengan karakter 'h' untuk membuat string baru 'new_s'. Proses ini tidak mengubah string asli 's' karena string adalah tipe data immutable. Namun, kita berhasil membuat string baru 'new_s' dengan karakter pertama yang diubah sesuai keinginan kita. -->"
   ]
  },
  {
   "cell_type": "markdown",
   "id": "45913b8d",
   "metadata": {},
   "source": [
    "# List (***Sequence***)"
   ]
  },
  {
   "cell_type": "markdown",
   "id": "b276018e",
   "metadata": {},
   "source": [
    "## Contoh pembuatan list"
   ]
  },
  {
   "cell_type": "code",
   "execution_count": 1,
   "id": "eed3da4a",
   "metadata": {},
   "outputs": [
    {
     "data": {
      "text/plain": [
       "['apel', 'pisang', 'jeruk']"
      ]
     },
     "execution_count": 1,
     "metadata": {},
     "output_type": "execute_result"
    }
   ],
   "source": [
    "# Contoh pembuatan list\n",
    "my_list = ['apel', 'pisang', 'jeruk']\n",
    "my_list"
   ]
  },
  {
   "cell_type": "markdown",
   "id": "be95b360",
   "metadata": {},
   "source": [
    "## Mengakses Elemen List\n",
    "- Anda dapat mengakses elemen dalam list menggunakan indeks. Indeks dimulai dari 0."
   ]
  },
  {
   "cell_type": "code",
   "execution_count": 2,
   "id": "326f7d3d",
   "metadata": {},
   "outputs": [
    {
     "name": "stdout",
     "output_type": "stream",
     "text": [
      "apel\n",
      "jeruk\n"
     ]
    }
   ],
   "source": [
    "my_list = ['apel', 'pisang', 'jeruk']\n",
    "print(my_list[0])  # Output: apel\n",
    "print(my_list[2])  # Output: jeruk"
   ]
  },
  {
   "cell_type": "markdown",
   "id": "59d0ca58",
   "metadata": {},
   "source": [
    "## Mengganti Elemen List\n",
    "- Karena list bersifat mutable, Anda dapat mengganti elemen dalam list dengan mudah."
   ]
  },
  {
   "cell_type": "code",
   "execution_count": 3,
   "id": "a092f433",
   "metadata": {},
   "outputs": [
    {
     "name": "stdout",
     "output_type": "stream",
     "text": [
      "['apel', 'mangga', 'jeruk']\n"
     ]
    }
   ],
   "source": [
    "my_list = ['apel', 'pisang', 'jeruk']\n",
    "my_list[1] = 'mangga'\n",
    "print(my_list)  # Output: ['apel', 'mangga', 'jeruk']"
   ]
  },
  {
   "cell_type": "markdown",
   "id": "413a10af",
   "metadata": {},
   "source": [
    "## Menambah Elemen ke List\n",
    "- Anda dapat menambahkan elemen ke list dengan menggunakan metode ***append().***"
   ]
  },
  {
   "cell_type": "code",
   "execution_count": 4,
   "id": "67671fdf",
   "metadata": {},
   "outputs": [
    {
     "name": "stdout",
     "output_type": "stream",
     "text": [
      "['apel', 'pisang', 'jeruk', 'mangga']\n"
     ]
    }
   ],
   "source": [
    "my_list = ['apel', 'pisang', 'jeruk']\n",
    "my_list.append('mangga')\n",
    "print(my_list)  # Output: ['apel', 'pisang', 'jeruk', 'mangga']"
   ]
  },
  {
   "cell_type": "markdown",
   "id": "006714f5",
   "metadata": {},
   "source": [
    "## Menghapus Elemen dari List\n",
    "- Anda dapat menghapus elemen dari list dengan menggunakan metode remove() atau pop()"
   ]
  },
  {
   "cell_type": "code",
   "execution_count": 5,
   "id": "b8198a9f",
   "metadata": {},
   "outputs": [
    {
     "name": "stdout",
     "output_type": "stream",
     "text": [
      "['apel', 'jeruk']\n",
      "['apel', 'jeruk']\n"
     ]
    }
   ],
   "source": [
    "my_list = ['apel', 'pisang', 'jeruk']\n",
    "my_list.remove('pisang')\n",
    "print(my_list) \n",
    "\n",
    "my_list = ['apel', 'pisang', 'jeruk']\n",
    "my_list.pop(1)\n",
    "print(my_list)  "
   ]
  },
  {
   "cell_type": "markdown",
   "id": "94b08146",
   "metadata": {},
   "source": [
    "## Slicing List\n",
    "- Anda dapat mengakses sebagian list dengan menggunakan slicing."
   ]
  },
  {
   "cell_type": "code",
   "execution_count": 6,
   "id": "3fa357c4",
   "metadata": {},
   "outputs": [
    {
     "name": "stdout",
     "output_type": "stream",
     "text": [
      "['pisang', 'jeruk', 'mangga']\n"
     ]
    }
   ],
   "source": [
    "my_list = ['apel', 'pisang', 'jeruk', 'mangga', 'anggur']\n",
    "sub_list = my_list[1:4]\n",
    "print(sub_list) "
   ]
  },
  {
   "cell_type": "markdown",
   "id": "e9a11e0a",
   "metadata": {},
   "source": [
    "## Fungsi dan Metode List Lainnya\n",
    "- Beberapa fungsi dan metode lain yang sering digunakan pada list antara lain: ***len()***, ***insert()***, ***count()***, ***sort()***, ***reverse()***, dan ***extend()***."
   ]
  },
  {
   "cell_type": "markdown",
   "id": "a9fb1719",
   "metadata": {},
   "source": [
    "## Fungsi len()\n",
    "- Fungsi ***len()*** digunakan untuk menghitung jumlah elemen dalam sebuah list."
   ]
  },
  {
   "cell_type": "code",
   "execution_count": 7,
   "id": "ec2d2e20",
   "metadata": {},
   "outputs": [
    {
     "name": "stdout",
     "output_type": "stream",
     "text": [
      "5\n"
     ]
    }
   ],
   "source": [
    "my_list = ['apel', 'pisang', 'jeruk', 'mangga', 'anggur']\n",
    "print(len(my_list)) "
   ]
  },
  {
   "cell_type": "markdown",
   "id": "a7ba69d6",
   "metadata": {},
   "source": [
    "## Metode insert()\n",
    "- Metode ***insert()*** digunakan untuk menambahkan elemen pada posisi tertentu dalam list. Metode ini membutuhkan dua argumen: indeks di mana elemen akan dimasukkan, dan elemen yang akan ditambahkan."
   ]
  },
  {
   "cell_type": "code",
   "execution_count": 8,
   "id": "3873a271",
   "metadata": {},
   "outputs": [
    {
     "name": "stdout",
     "output_type": "stream",
     "text": [
      "['apel', 'mangga', 'pisang', 'jeruk']\n"
     ]
    }
   ],
   "source": [
    "my_list = ['apel', 'pisang', 'jeruk']\n",
    "my_list.insert(1, 'mangga')\n",
    "print(my_list)"
   ]
  },
  {
   "cell_type": "markdown",
   "id": "ec3ca125",
   "metadata": {},
   "source": [
    "## Metode count()\n",
    "- Metode ***count()*** digunakan untuk menghitung jumlah kemunculan suatu elemen dalam list"
   ]
  },
  {
   "cell_type": "code",
   "execution_count": 9,
   "id": "f8b3a448",
   "metadata": {},
   "outputs": [
    {
     "name": "stdout",
     "output_type": "stream",
     "text": [
      "4\n"
     ]
    }
   ],
   "source": [
    "my_list = [1, 2, 3, 2, 1, 3, 1, 1, 2, 3]\n",
    "print(my_list.count(1))"
   ]
  },
  {
   "cell_type": "markdown",
   "id": "c12b3e99",
   "metadata": {},
   "source": [
    "## Metode sort()\n",
    "- Metode ***sort()*** digunakan untuk mengurutkan elemen dalam list. Secara default, metode ini akan mengurutkan elemen dalam urutan menaik. Anda juga dapat mengurutkan dalam urutan menurun dengan menggunakan argumen ***reverse=True.***"
   ]
  },
  {
   "cell_type": "code",
   "execution_count": 10,
   "id": "6dbf5e7f",
   "metadata": {},
   "outputs": [
    {
     "name": "stdout",
     "output_type": "stream",
     "text": [
      "[1, 1, 2, 3, 4, 5, 6, 9]\n",
      "[9, 6, 5, 4, 3, 2, 1, 1]\n"
     ]
    }
   ],
   "source": [
    "my_list = [3, 1, 4, 1, 5, 9, 2, 6]\n",
    "my_list.sort()\n",
    "print(my_list)\n",
    "\n",
    "my_list.sort(reverse=True)\n",
    "print(my_list) "
   ]
  },
  {
   "cell_type": "markdown",
   "id": "1cd2c711",
   "metadata": {},
   "source": [
    "## Metode reverse()\n",
    "- Metode ***reverse()*** digunakan untuk membalik urutan elemen dalam list."
   ]
  },
  {
   "cell_type": "code",
   "execution_count": 11,
   "id": "5c4676ec",
   "metadata": {},
   "outputs": [
    {
     "name": "stdout",
     "output_type": "stream",
     "text": [
      "['anggur', 'mangga', 'jeruk', 'pisang', 'apel']\n"
     ]
    }
   ],
   "source": [
    "my_list = ['apel', 'pisang', 'jeruk', 'mangga', 'anggur']\n",
    "my_list.reverse()\n",
    "print(my_list)  "
   ]
  },
  {
   "cell_type": "markdown",
   "id": "de8e7c0a",
   "metadata": {},
   "source": [
    "## Metode extend()\n",
    "- Metode extend() digunakan untuk menggabungkan elemen dari satu list ke list lain. Metode ini akan menggabungkan elemen dari list yang diberikan sebagai argumen ke list yang memanggil metode ini."
   ]
  },
  {
   "cell_type": "code",
   "execution_count": 12,
   "id": "a1cdceda",
   "metadata": {},
   "outputs": [
    {
     "name": "stdout",
     "output_type": "stream",
     "text": [
      "[1, 2, 3, 4, 5, 6]\n"
     ]
    }
   ],
   "source": [
    "list1 = [1, 2, 3]\n",
    "list2 = [4, 5, 6]\n",
    "list1.extend(list2)\n",
    "print(list1) "
   ]
  },
  {
   "cell_type": "code",
   "execution_count": 7,
   "id": "15f22224",
   "metadata": {},
   "outputs": [
    {
     "name": "stdout",
     "output_type": "stream",
     "text": [
      "Anda juga dapat menggunakan operator + untuk menggabungkan dua list.\n",
      "[1, 2, 3, 7, 5, 6]\n",
      "[1, 2, 3, 5, 6, 7]\n"
     ]
    }
   ],
   "source": [
    "list1 = [1, 2, 3]\n",
    "list2 = [4, 5, 6]\n",
    "print(\"Anda juga dapat menggunakan operator + untuk menggabungkan dua list.\")\n",
    "result = list1 + list2\n",
    "print(result)"
   ]
  },
  {
   "cell_type": "markdown",
   "id": "ec509251",
   "metadata": {},
   "source": [
    "## Menggunakan Fungsi sorted()\n",
    "- Fungsi ***sorted()*** digunakan untuk mengurutkan elemen dalam list dan mengembalikan list baru yang telah diurutkan, tanpa mengubah list asli. Anda juga dapat mengurutkan dalam urutan menurun dengan menggunakan argumen ***reverse=True.***"
   ]
  },
  {
   "cell_type": "code",
   "execution_count": 14,
   "id": "16c5b3f3",
   "metadata": {},
   "outputs": [
    {
     "name": "stdout",
     "output_type": "stream",
     "text": [
      "[1, 1, 2, 3, 4, 5, 6, 9]\n",
      "[3, 1, 4, 1, 5, 9, 2, 6]\n",
      "[9, 6, 5, 4, 3, 2, 1, 1]\n"
     ]
    }
   ],
   "source": [
    "my_list = [3, 1, 4, 1, 5, 9, 2, 6]\n",
    "sorted_list = sorted(my_list)\n",
    "print(sorted_list) \n",
    "print(my_list) \n",
    "\n",
    "sorted_list = sorted(my_list, reverse=True)\n",
    "print(sorted_list) "
   ]
  },
  {
   "cell_type": "markdown",
   "id": "d2c480c8",
   "metadata": {},
   "source": [
    "## Fungsi sum() dan max()\n",
    "- Fungsi ***sum()*** digunakan untuk menghitung jumlah total elemen dalam list, dan fungsi ***max()*** digunakan untuk menemukan elemen terbesar dalam list. Kedua fungsi ini hanya dapat digunakan pada list yang berisi elemen bertipe numerik."
   ]
  },
  {
   "cell_type": "code",
   "execution_count": 15,
   "id": "9964be43",
   "metadata": {},
   "outputs": [
    {
     "name": "stdout",
     "output_type": "stream",
     "text": [
      "15\n",
      "5\n"
     ]
    }
   ],
   "source": [
    "my_list = [1, 2, 3, 4, 5]\n",
    "print(sum(my_list))\n",
    "print(max(my_list)) "
   ]
  },
  {
   "cell_type": "markdown",
   "id": "5600ffaf",
   "metadata": {},
   "source": [
    "## Nested Lists\n",
    "- Nested lists atau list bersarang adalah list yang berisi list lain sebagai elemennya. Nested lists sering digunakan untuk merepresentasikan struktur data seperti matriks atau pohon."
   ]
  },
  {
   "cell_type": "code",
   "execution_count": 8,
   "id": "5f79ef82",
   "metadata": {},
   "outputs": [
    {
     "name": "stdout",
     "output_type": "stream",
     "text": [
      "[1, 2, 3]\n",
      "6\n",
      "8\n"
     ]
    }
   ],
   "source": [
    "nested_list = [\n",
    "    [1, 2, 3], # list 1\n",
    "    [4, 5, 6], # list 2\n",
    "    [7, 8, 9] # list 3\n",
    "]\n",
    "\n",
    "print(nested_list[0])  \n",
    "print(nested_list[1][2])  # Global list 1 dan elemen ke 2 \n",
    "print(nested_list[2][1])"
   ]
  },
  {
   "cell_type": "markdown",
   "id": "524bb9f4",
   "metadata": {},
   "source": [
    "## Enumerating Lists dengan Fungsi enumerate()\n",
    "- Fungsi ***enumerate()*** digunakan untuk menghasilkan pasangan indeks dan elemen dalam list. Fungsi ini sering digunakan dalam loop for untuk mengiterasi list sambil mengakses indeks dan elemen."
   ]
  },
  {
   "cell_type": "code",
   "execution_count": 10,
   "id": "5a5d2b7a",
   "metadata": {},
   "outputs": [
    {
     "name": "stdout",
     "output_type": "stream",
     "text": [
      "Index: 0, Elemen: apel\n",
      "Index: 1, Elemen: pisang\n",
      "Index: 2, Elemen: jeruk\n",
      "Index: 3, Elemen: mangga\n",
      "Index: 4, Elemen: anggur\n"
     ]
    }
   ],
   "source": [
    "my_list = ['apel', 'pisang', 'jeruk', 'mangga', 'anggur']\n",
    "\n",
    "for index, element in enumerate(my_list):\n",
    "    print(f\"Index: {index}, Elemen: {element}\")"
   ]
  },
  {
   "cell_type": "markdown",
   "id": "b2ef3a31",
   "metadata": {},
   "source": [
    "## Menggabungkan List dengan Fungsi zip()\n",
    "- Fungsi ***zip()*** digunakan untuk menggabungkan beberapa list menjadi satu list berisi tuple, di mana tuple ke-i berisi elemen ke-i dari setiap list yang digabungkan. Panjang list yang dihasilkan sama dengan panjang list terpendek yang digabungkan."
   ]
  },
  {
   "cell_type": "code",
   "execution_count": 77,
   "id": "9ed1aec2",
   "metadata": {},
   "outputs": [
    {
     "ename": "TypeError",
     "evalue": "'list' object is not callable",
     "output_type": "error",
     "traceback": [
      "\u001b[1;31m---------------------------------------------------------------------------\u001b[0m",
      "\u001b[1;31mTypeError\u001b[0m                                 Traceback (most recent call last)",
      "Cell \u001b[1;32mIn[77], line 5\u001b[0m\n\u001b[0;32m      2\u001b[0m ages \u001b[38;5;241m=\u001b[39m [\u001b[38;5;241m25\u001b[39m, \u001b[38;5;241m30\u001b[39m, \u001b[38;5;241m35\u001b[39m]\n\u001b[0;32m      4\u001b[0m combined2 \u001b[38;5;241m=\u001b[39m \u001b[38;5;28mzip\u001b[39m(names, ages)\n\u001b[1;32m----> 5\u001b[0m my_list2 \u001b[38;5;241m=\u001b[39m \u001b[38;5;28;43mlist\u001b[39;49m\u001b[43m(\u001b[49m\u001b[43mcombined2\u001b[49m\u001b[43m)\u001b[49m\n\u001b[0;32m      6\u001b[0m \u001b[38;5;28mprint\u001b[39m(my_list2)\n",
      "\u001b[1;31mTypeError\u001b[0m: 'list' object is not callable"
     ]
    }
   ],
   "source": [
    "names = ['Alice', 'Bob', 'Charlie']\n",
    "ages = [25, 30, 35]\n",
    "\n",
    "combined2 = zip(names, ages)\n",
    "my_list2 = list(combined2)\n",
    "print(my_list2)"
   ]
  },
  {
   "cell_type": "markdown",
   "id": "c7e6e9d9",
   "metadata": {},
   "source": [
    "## List Comprehension\n",
    "- List comprehension adalah cara yang lebih singkat dan elegan untuk membuat list yang baru dari list yang sudah ada."
   ]
  },
  {
   "cell_type": "code",
   "execution_count": 45,
   "id": "5904b9ab",
   "metadata": {},
   "outputs": [
    {
     "name": "stdout",
     "output_type": "stream",
     "text": [
      "[1, 4, 9, 16, 25]\n"
     ]
    }
   ],
   "source": [
    "numbers = [1, 2, 3, 4, 5]\n",
    "squares = [x**2 for x in numbers]\n",
    "print(squares)  # Output: [1, 4, 9, 16, 25]"
   ]
  },
  {
   "cell_type": "markdown",
   "id": "fa6cf1c0",
   "metadata": {},
   "source": [
    "# Soal List"
   ]
  },
  {
   "cell_type": "markdown",
   "id": "f013e81e",
   "metadata": {},
   "source": [
    "Berikut merupakan soal latihan yang harus di jawab ketika kelas berlangsung\n",
    "\n",
    "0) Jelaskan Apa Itu List?\n",
    "\n",
    "1) Akses Elemen List: Diberikan list angka = [10, 20, 30, 40, 50], akses elemen ketiga dari list tersebut.\n",
    "\n",
    "2) Manipulasi List: Diberikan list buah = ['apel', 'jeruk', 'mangga'], tambahkan elemen 'pisang' ke dalam list.\n",
    "\n",
    "3) Penggabungan List: Gabungkan dua list berikut menjadi satu list baru: list1 = [1, 2, 3] dan list2 = [4, 5, 6].\n",
    "\n",
    "4) Fungsi dan Metode List: Gunakan fungsi len() untuk menghitung panjang dari list hewan = ['kucing', 'anjing', 'kelinci'].\n",
    "\n",
    "5) Slicing List: Diberikan list angka = [0, 1, 2, 3, 4, 5, 6, 7, 8, 9], ambil elemen dari indeks 2 hingga 7 (ekslusif).\n",
    "\n",
    "6) Perulangan List: Gunakan perulangan for untuk mencetak semua elemen dalam list kota = ['Jakarta', 'Surabaya', 'Bandung'].\n",
    "\n",
    "7) List Comprehension: Buatlah list baru yang berisi kuadrat dari setiap angka dalam list angka = [1, 2, 3, 4, 5] menggunakan list comprehension.\n",
    "\n",
    "8) Nested List: Diberikan nested list matriks = [[1, 2, 3], [4, 5, 6], [7, 8, 9]], akses elemen dengan nilai 5."
   ]
  },
  {
   "cell_type": "markdown",
   "id": "da953dd0",
   "metadata": {},
   "source": [
    "SOAL NO 0\n",
    "list adalah salah satu jenis dari tipe data bawaan yang digunakan untuk menyimpan dan mengelola kumpulan elemen yang dapat diubah. List ditandai dengan tanda kurung siku [] dan elemen-elemennya dipisahkan dengan koma"
   ]
  },
  {
   "cell_type": "code",
   "execution_count": 19,
   "id": "07b4ddce",
   "metadata": {},
   "outputs": [
    {
     "name": "stdout",
     "output_type": "stream",
     "text": [
      "30\n"
     ]
    }
   ],
   "source": [
    "# SOAL NO 1\n",
    "list = [10,20,30,40,50]\n",
    "print(list[2])"
   ]
  },
  {
   "cell_type": "markdown",
   "id": "754e3cb2",
   "metadata": {},
   "source": [
    "List dimulai dengan \n",
    "10 -> elemen ke-0\n",
    "20 -> elemen ke-1\n",
    "30 -> elemen ke-2\n",
    "40 -> elemen ke-3\n",
    "50 -> elemen ke-4"
   ]
  },
  {
   "cell_type": "code",
   "execution_count": 84,
   "id": "1a80de3c",
   "metadata": {},
   "outputs": [
    {
     "name": "stdout",
     "output_type": "stream",
     "text": [
      "['apel', 'jeruk', 'mangga', 'pisang']\n"
     ]
    }
   ],
   "source": [
    "# SOAL NO 2\n",
    "buah = ['apel', 'jeruk', 'mangga']\n",
    "buah.append('pisang')\n",
    "print(buah)"
   ]
  },
  {
   "cell_type": "code",
   "execution_count": 26,
   "id": "384f23e9",
   "metadata": {},
   "outputs": [
    {
     "name": "stdout",
     "output_type": "stream",
     "text": [
      "Hasil 1 = [1, 2, 3, 4, 5, 6]\n",
      "Hasil 2 = [1, 2, 3, 4, 5, 6]\n"
     ]
    }
   ],
   "source": [
    "# SOAL NO 3\n",
    "list1 = [1,2,3]\n",
    "list2 = [4,5,6]\n",
    "\n",
    "# Metode 1\n",
    "list1.extend(list2)\n",
    "list_result1 = list1\n",
    "print(\"Hasil 1 = \" + str(list_result1))\n",
    "\n",
    "list1 = [1,2,3]\n",
    "list2 = [4,5,6]\n",
    "# Metode 2\n",
    "list_result2 = list1 + list2\n",
    "print(\"Hasil 2 = \" + str(list_result2))"
   ]
  },
  {
   "cell_type": "markdown",
   "id": "a1dcc09f",
   "metadata": {},
   "source": [
    "Penjelasannya ntar"
   ]
  },
  {
   "cell_type": "code",
   "execution_count": 37,
   "id": "a3ea5e6d",
   "metadata": {},
   "outputs": [
    {
     "name": "stdout",
     "output_type": "stream",
     "text": [
      "Jumlah Karakter = 3\n"
     ]
    }
   ],
   "source": [
    "# SOAL NO 4\n",
    "hewan = ['kucing', 'anjing', 'kelinci']\n",
    "print(\"Jumlah Karakter = \" + str(len(hewan)))"
   ]
  },
  {
   "cell_type": "markdown",
   "id": "62656793",
   "metadata": {},
   "source": [
    "Penjelasan nanti"
   ]
  },
  {
   "cell_type": "code",
   "execution_count": 38,
   "id": "147ce1d7",
   "metadata": {},
   "outputs": [
    {
     "name": "stdout",
     "output_type": "stream",
     "text": [
      "Berikut elemen 1 - 7 = [1, 2, 3, 4, 5, 6, 7]\n"
     ]
    }
   ],
   "source": [
    "# SOAL NO 5\n",
    "angka = [0, 1, 2, 3, 4, 5, 6, 7, 8, 9]\n",
    "print(\"Berikut elemen 1 - 7 = \" + str(angka[1:8]))"
   ]
  },
  {
   "cell_type": "markdown",
   "id": "7274fd26",
   "metadata": {},
   "source": [
    "Penjelasan nanti"
   ]
  },
  {
   "cell_type": "code",
   "execution_count": 40,
   "id": "5c124bee",
   "metadata": {},
   "outputs": [
    {
     "name": "stdout",
     "output_type": "stream",
     "text": [
      "Index: 0, Elemen: Jakarta\n",
      "Index: 1, Elemen: Surabaya\n",
      "Index: 2, Elemen: Bandung\n"
     ]
    }
   ],
   "source": [
    "# SOAL NO 6\n",
    "kota = ['Jakarta', 'Surabaya', 'Bandung']\n",
    "for index, element in enumerate(kota):\n",
    "    print(f\"Index: {index}, Elemen: {element}\")"
   ]
  },
  {
   "cell_type": "markdown",
   "id": "2c77d6d0",
   "metadata": {},
   "source": [
    "Penjelasan nanti"
   ]
  },
  {
   "cell_type": "code",
   "execution_count": 48,
   "id": "b02195bd",
   "metadata": {},
   "outputs": [
    {
     "name": "stdout",
     "output_type": "stream",
     "text": [
      "[1, 4, 9, 16, 25]\n"
     ]
    }
   ],
   "source": [
    "# SOAL NO 7\n",
    "angka = [1, 2, 3, 4, 5]\n",
    "angka_pangkat = [x**2 for x in angka]\n",
    "print(angka_pangkat)"
   ]
  },
  {
   "cell_type": "markdown",
   "id": "a7d050f5",
   "metadata": {},
   "source": [
    "Penjelasan nanti"
   ]
  },
  {
   "cell_type": "code",
   "execution_count": 82,
   "id": "8668bbff",
   "metadata": {},
   "outputs": [
    {
     "name": "stdout",
     "output_type": "stream",
     "text": [
      "Cetak Nilai '5' = 5\n"
     ]
    }
   ],
   "source": [
    "# SOAL NO 8\n",
    "matriks = [[1, 2, 3],\n",
    "           [4, 5, 6],\n",
    "           [7, 8, 9]]\n",
    "print(\"Cetak Nilai '5' = \" + str(matriks[1][1]))"
   ]
  },
  {
   "cell_type": "markdown",
   "id": "f89bcb6f",
   "metadata": {},
   "source": [
    "Penjelasan nanti"
   ]
  },
  {
   "cell_type": "markdown",
   "id": "6fb479ae",
   "metadata": {},
   "source": [
    "# Dictionaries (***Mapping Data Type***)"
   ]
  },
  {
   "cell_type": "markdown",
   "id": "64e9ffc4",
   "metadata": {},
   "source": [
    "## Membuat Dictionaries\n",
    "- Membuat dictionary di Python sangat mudah. Anda hanya perlu menggunakan tanda kurung kurawal dan memisahkan setiap pasangan kunci-nilai dengan koma. Setiap kunci dan nilainya dipisahkan dengan titik dua."
   ]
  },
  {
   "cell_type": "code",
   "execution_count": 1,
   "id": "64891127",
   "metadata": {},
   "outputs": [
    {
     "data": {
      "text/plain": [
       "{'nama': 'Budi', 'umur': 25, 'pekerjaan': 'Programmer'}"
      ]
     },
     "execution_count": 1,
     "metadata": {},
     "output_type": "execute_result"
    }
   ],
   "source": [
    "# Contoh pembuatan dictionary\n",
    "my_dict = {'nama': 'Budi', 'umur': 25, 'pekerjaan': 'Programmer'}\n",
    "my_dict"
   ]
  },
  {
   "cell_type": "markdown",
   "id": "b731ddfe",
   "metadata": {},
   "source": [
    "## Mengakses Nilai dalam Dictionaries\n",
    "- Anda dapat mengakses nilai dalam dictionary menggunakan kunci yang bersesuaian."
   ]
  },
  {
   "cell_type": "code",
   "execution_count": 21,
   "id": "3b88d7fd",
   "metadata": {},
   "outputs": [
    {
     "name": "stdout",
     "output_type": "stream",
     "text": [
      "Budi\n",
      "25\n"
     ]
    }
   ],
   "source": [
    "my_dict = {'nama': 'Budi', 'umur': 25, 'pekerjaan': 'Programmer'}\n",
    "print(my_dict['nama'])  \n",
    "print(my_dict['umur']) "
   ]
  },
  {
   "cell_type": "markdown",
   "id": "fc5a8037",
   "metadata": {},
   "source": [
    "## Mengganti Nilai dalam Dictionaries\n",
    "- Karena dictionaries bersifat mutable, Anda dapat mengganti nilai dalam dictionary dengan mudah."
   ]
  },
  {
   "cell_type": "code",
   "execution_count": 22,
   "id": "d325cb27",
   "metadata": {},
   "outputs": [
    {
     "name": "stdout",
     "output_type": "stream",
     "text": [
      "{'nama': 'Budi', 'umur': 26, 'pekerjaan': 'Programmer'}\n"
     ]
    }
   ],
   "source": [
    "my_dict = {'nama': 'Budi', 'umur': 25, 'pekerjaan': 'Programmer'}\n",
    "my_dict['umur'] = 26\n",
    "print(my_dict)  # Output: {'nama': 'Budi', 'umur': 26, 'pekerjaan': 'Programmer'}"
   ]
  },
  {
   "cell_type": "markdown",
   "id": "75d64958",
   "metadata": {},
   "source": [
    "## Menambahkan Pasangan Kunci-Nilai ke Dictionaries\n",
    "- Anda dapat menambahkan pasangan kunci-nilai baru ke dictionary dengan menginisialisasi nilai baru menggunakan kunci baru."
   ]
  },
  {
   "cell_type": "code",
   "execution_count": 23,
   "id": "ed89c839",
   "metadata": {},
   "outputs": [
    {
     "name": "stdout",
     "output_type": "stream",
     "text": [
      "{'nama': 'Budi', 'umur': 25, 'pekerjaan': 'Programmer', 'kota': 'Jakarta'}\n"
     ]
    }
   ],
   "source": [
    "my_dict = {'nama': 'Budi', 'umur': 25, 'pekerjaan': 'Programmer'}\n",
    "my_dict['kota'] = 'Jakarta'\n",
    "print(my_dict)  # Output: {'nama': 'Budi', 'umur': 25, 'pekerjaan': 'Programmer', 'kota': 'Jakarta'}"
   ]
  },
  {
   "cell_type": "markdown",
   "id": "82849db6",
   "metadata": {},
   "source": [
    "## Menghapus Pasangan Kunci-Nilai dari Dictionaries\n",
    "- Anda dapat menghapus pasangan kunci-nilai dari dictionary dengan menggunakan perintah `del`."
   ]
  },
  {
   "cell_type": "code",
   "execution_count": 24,
   "id": "080e5dea",
   "metadata": {},
   "outputs": [
    {
     "name": "stdout",
     "output_type": "stream",
     "text": [
      "{'nama': 'Budi', 'umur': 25, 'pekerjaan': 'Programmer'}\n"
     ]
    }
   ],
   "source": [
    "my_dict = {'nama': 'Budi', 'umur': 25, 'pekerjaan': 'Programmer', 'kota': 'Jakarta'}\n",
    "del my_dict['kota']\n",
    "print(my_dict)  # Output: {'nama': 'Budi', 'umur': 25, 'pekerjaan': 'Programmer'}"
   ]
  },
  {
   "cell_type": "markdown",
   "id": "100e1172",
   "metadata": {},
   "source": [
    "## Metode Dictionaries\n",
    "Beberapa metode yang sering digunakan pada dictionaries antara lain: keys(), values(), items(), get(), update(), pop(), dan clear()."
   ]
  },
  {
   "cell_type": "markdown",
   "id": "16cdced0",
   "metadata": {},
   "source": [
    "## Metode keys()\n",
    "- ***keys()*** mengembalikan list kunci dalam dictionary"
   ]
  },
  {
   "cell_type": "code",
   "execution_count": 25,
   "id": "4a9b6ce2",
   "metadata": {},
   "outputs": [
    {
     "data": {
      "text/plain": [
       "dict_keys(['nama', 'umur', 'pekerjaan'])"
      ]
     },
     "execution_count": 25,
     "metadata": {},
     "output_type": "execute_result"
    }
   ],
   "source": [
    "my_dict = {'nama': 'Budi', 'umur': 25, 'pekerjaan': 'Programmer'}\n",
    "\n",
    "my_dict.keys()"
   ]
  },
  {
   "cell_type": "markdown",
   "id": "a95a4d0a",
   "metadata": {},
   "source": [
    "## Metode values()\n",
    "- ***values()*** mengembalikan list nilai dalam dictionary"
   ]
  },
  {
   "cell_type": "code",
   "execution_count": 26,
   "id": "e5c48b27",
   "metadata": {},
   "outputs": [
    {
     "data": {
      "text/plain": [
       "dict_values(['Budi', 25, 'Programmer'])"
      ]
     },
     "execution_count": 26,
     "metadata": {},
     "output_type": "execute_result"
    }
   ],
   "source": [
    "my_dict.values()"
   ]
  },
  {
   "cell_type": "markdown",
   "id": "7b396f05",
   "metadata": {},
   "source": [
    "## Metode items()\n",
    "- ***items()*** mengembalikan list pasangan kunci-nilai dalam bentuk tuple"
   ]
  },
  {
   "cell_type": "code",
   "execution_count": 27,
   "id": "4bc02cd2",
   "metadata": {},
   "outputs": [
    {
     "data": {
      "text/plain": [
       "dict_items([('nama', 'Budi'), ('umur', 25), ('pekerjaan', 'Programmer')])"
      ]
     },
     "execution_count": 27,
     "metadata": {},
     "output_type": "execute_result"
    }
   ],
   "source": [
    "my_dict.items()"
   ]
  },
  {
   "cell_type": "markdown",
   "id": "aea25148",
   "metadata": {},
   "source": [
    "## Metode get()\n",
    "- ***get()*** mengembalikan nilai untuk kunci yang diberikan, atau nilai default jika kunci tidak ditemukan"
   ]
  },
  {
   "cell_type": "code",
   "execution_count": 28,
   "id": "aa7caf02",
   "metadata": {},
   "outputs": [
    {
     "name": "stdout",
     "output_type": "stream",
     "text": [
      "Budi\n",
      "Tidak ditemukan\n"
     ]
    }
   ],
   "source": [
    "print(my_dict.get('nama', 'Tidak ditemukan'))  # Output: Budi\n",
    "print(my_dict.get('alamat', 'Tidak ditemukan'))  # Output: Tidak ditemukan"
   ]
  },
  {
   "cell_type": "markdown",
   "id": "3607f71b",
   "metadata": {},
   "source": [
    "## Metode update()\n",
    "- ***update()*** menggabungkan dua dictionary"
   ]
  },
  {
   "cell_type": "code",
   "execution_count": 29,
   "id": "ed75a1a4",
   "metadata": {},
   "outputs": [
    {
     "data": {
      "text/plain": [
       "{'nama': 'Budi', 'umur': 25, 'pekerjaan': 'Programmer', 'kota': 'Jakarta'}"
      ]
     },
     "execution_count": 29,
     "metadata": {},
     "output_type": "execute_result"
    }
   ],
   "source": [
    "dict1 = {'nama': 'Budi', 'umur': 25}\n",
    "dict2 = {'pekerjaan': 'Programmer', 'kota': 'Jakarta'}\n",
    "dict1.update(dict2)\n",
    "dict1"
   ]
  },
  {
   "cell_type": "markdown",
   "id": "474668db",
   "metadata": {},
   "source": [
    "## Metode pop()\n",
    "- ***pop()*** menghapus pasangan kunci-nilai berdasarkan kunci yang diberikan dan mengembalikan nilai yang diberikan saja"
   ]
  },
  {
   "cell_type": "code",
   "execution_count": 30,
   "id": "c28f9823",
   "metadata": {},
   "outputs": [
    {
     "name": "stdout",
     "output_type": "stream",
     "text": [
      "25\n",
      "{'nama': 'Budi', 'pekerjaan': 'Programmer'}\n"
     ]
    }
   ],
   "source": [
    "umur = my_dict.pop('umur')\n",
    "print(umur)  # Output: 25\n",
    "print(my_dict)  # Output: {'nama': 'Budi', 'pekerjaan': 'Programmer'}"
   ]
  },
  {
   "cell_type": "markdown",
   "id": "235b50f4",
   "metadata": {},
   "source": [
    "## Metode clear()\n",
    "- ***clear()*** menghapus semua pasangan kunci-nilai dalam dictionary"
   ]
  },
  {
   "cell_type": "code",
   "execution_count": 31,
   "id": "b5bcd517",
   "metadata": {
    "scrolled": true
   },
   "outputs": [
    {
     "name": "stdout",
     "output_type": "stream",
     "text": [
      "{}\n"
     ]
    }
   ],
   "source": [
    "my_dict.clear()\n",
    "print(my_dict)"
   ]
  },
  {
   "cell_type": "markdown",
   "id": "f192b762",
   "metadata": {},
   "source": [
    "## Iterasi pada Dictionaries\n",
    "- Anda dapat mengiterasi pasangan kunci-nilai dalam dictionary menggunakan loop `for`."
   ]
  },
  {
   "cell_type": "code",
   "execution_count": 32,
   "id": "7a6c00a3",
   "metadata": {
    "scrolled": true
   },
   "outputs": [
    {
     "name": "stdout",
     "output_type": "stream",
     "text": [
      "nama: Budi\n",
      "umur: 25\n",
      "pekerjaan: Programmer\n"
     ]
    }
   ],
   "source": [
    "my_dict = {'nama': 'Budi', 'umur': 25, 'pekerjaan': 'Programmer'}\n",
    "\n",
    "for key, value in my_dict.items():\n",
    "    print(f\"{key}: {value}\")"
   ]
  },
  {
   "cell_type": "markdown",
   "id": "1810fdf9",
   "metadata": {},
   "source": [
    "# Soal Dictionaries"
   ]
  },
  {
   "cell_type": "markdown",
   "id": "33488d8c",
   "metadata": {},
   "source": [
    "Berikut merupakan soal latihan yang harus di jawab ketika kelas berlangsung\n",
    "\n",
    "0) Jelaskan Apa Itu Dictionaries?\n",
    "\n",
    "1) Pendahuluan Dictionaries: Buatlah sebuah dictionary yang menyimpan informasi tentang diri Anda, seperti nama, umur, dan kota.\n",
    "\n",
    "2) Akses Elemen Dictionaries: Diberikan dictionary kendaraan = {'mobil': 5, 'motor': 10, 'sepeda': 3}, akses jumlah motor dalam dictionary tersebut.\n",
    "\n",
    "3) Manipulasi Dictionaries: Diberikan dictionary stok_buku = {'Matematika': 10, 'Fisika': 8, 'Biologi': 15}, tambahkan elemen baru ke dalam dictionary dengan kunci 'Kimia' dan nilai 12.\n",
    "\n",
    "4) Menggabungkan Dictionaries: Gabungkan dua dictionaries berikut menjadi satu dictionary baru: dict1 = {'a': 1, 'b': 2} dan dict2 = {'c': 3, 'd': 4}.\n",
    "\n",
    "5) Fungsi dan Metode Dictionaries: Gunakan metode keys() untuk mengambil semua kunci dari dictionary harga = {'nasi': 5000, 'ayam': 15000, 'tempe': 4000}.\n",
    "\n",
    "6) Fungsi dan Metode Dictionaries: Gunakan metode values() untuk mengambil semua kunci dari dictionary harga = {'nasi': 5000, 'ayam': 15000, 'tempe': 4000}."
   ]
  },
  {
   "cell_type": "markdown",
   "id": "b1b0f5e7",
   "metadata": {},
   "source": [
    "#SOAL NO 1\n",
    "dictionary adalah salah satu jenis dari tipe data bawaan yang digunakan untuk menyimpan data dalam bentuk pasangan \"kunci-nilai\" (key-value pairs). Dictionaries ditandai dengan tanda kurung kurawal {}. Setiap pasangan kunci-nilai dalam dictionary dipisahkan dengan koma, dan kunci dan nilai dipisahkan oleh titik dua :."
   ]
  },
  {
   "cell_type": "code",
   "execution_count": 2,
   "id": "2160937e",
   "metadata": {},
   "outputs": [
    {
     "name": "stdout",
     "output_type": "stream",
     "text": [
      "{'nama': 'Farizki D. N.', 'umur': 28, 'kota': 'Malang'}\n"
     ]
    }
   ],
   "source": [
    "# SOAL NO 2\n",
    "my_Data = {'nama' : 'Farizki D. N.',\n",
    "          'umur' : 28,\n",
    "          'kota' : 'Malang'}\n",
    "print(my_Data)"
   ]
  },
  {
   "cell_type": "code",
   "execution_count": 4,
   "id": "0ba45dd0",
   "metadata": {},
   "outputs": [
    {
     "name": "stdout",
     "output_type": "stream",
     "text": [
      "10\n"
     ]
    }
   ],
   "source": [
    "# SOAL NO 3\n",
    "kendaraan = {'mobil': 5, 'motor': 10, 'sepeda': 3}\n",
    "print(kendaraan['motor'])"
   ]
  },
  {
   "cell_type": "code",
   "execution_count": 5,
   "id": "c00b3643",
   "metadata": {},
   "outputs": [
    {
     "data": {
      "text/plain": [
       "{'a': 1, 'b': 2, 'c': 3, 'd': 4}"
      ]
     },
     "execution_count": 5,
     "metadata": {},
     "output_type": "execute_result"
    }
   ],
   "source": [
    "# SOAL NO 4\n",
    "dict1 = {'a': 1, 'b': 2}\n",
    "dict2 = {'c': 3, 'd': 4}\n",
    "dict1.update(dict2)\n",
    "dict1"
   ]
  },
  {
   "cell_type": "code",
   "execution_count": 6,
   "id": "5e93b35a",
   "metadata": {},
   "outputs": [
    {
     "data": {
      "text/plain": [
       "dict_keys(['nasi', 'ayam', 'tempe'])"
      ]
     },
     "execution_count": 6,
     "metadata": {},
     "output_type": "execute_result"
    }
   ],
   "source": [
    "# SOAL NO 5\n",
    "harga = {'nasi': 5000, 'ayam': 15000, 'tempe': 4000}\n",
    "harga.keys()"
   ]
  },
  {
   "cell_type": "code",
   "execution_count": 7,
   "id": "ec5678ba",
   "metadata": {},
   "outputs": [
    {
     "data": {
      "text/plain": [
       "dict_values([5000, 15000, 4000])"
      ]
     },
     "execution_count": 7,
     "metadata": {},
     "output_type": "execute_result"
    }
   ],
   "source": [
    "# SOAL NO 6\n",
    "harga = {'nasi': 5000, 'ayam': 15000, 'tempe': 4000}\n",
    "harga.values()"
   ]
  },
  {
   "cell_type": "markdown",
   "id": "48f0a379",
   "metadata": {},
   "source": [
    "# Tuples (***Sequence***)"
   ]
  },
  {
   "cell_type": "markdown",
   "id": "5683fce2",
   "metadata": {},
   "source": [
    "## Mengakses Elemen dalam Tuples\n",
    "- Anda dapat mengakses elemen dalam tuple menggunakan indeks yang bersesuaian."
   ]
  },
  {
   "cell_type": "code",
   "execution_count": 33,
   "id": "5a35960e",
   "metadata": {},
   "outputs": [
    {
     "name": "stdout",
     "output_type": "stream",
     "text": [
      "apel\n",
      "pisang\n"
     ]
    }
   ],
   "source": [
    "my_tuple = ('apel', 'pisang', 'jeruk')\n",
    "print(my_tuple[0])  # Output: apel\n",
    "print(my_tuple[1])  # Output: pisang"
   ]
  },
  {
   "cell_type": "markdown",
   "id": "917564e1",
   "metadata": {},
   "source": [
    "##  Tuple Slicing\n",
    "- Sama seperti list, Anda dapat melakukan slicing pada tuple untuk mengambil sebagian elemen dalam tuple."
   ]
  },
  {
   "cell_type": "code",
   "execution_count": 34,
   "id": "e4ac44bb",
   "metadata": {},
   "outputs": [
    {
     "name": "stdout",
     "output_type": "stream",
     "text": [
      "('pisang', 'jeruk', 'mangga')\n"
     ]
    }
   ],
   "source": [
    "my_tuple = ('apel', 'pisang', 'jeruk', 'mangga', 'anggur')\n",
    "sub_tuple = my_tuple[1:4]\n",
    "print(sub_tuple)  # Output: ('pisang', 'jeruk', 'mangga')"
   ]
  },
  {
   "cell_type": "markdown",
   "id": "f50cad80",
   "metadata": {},
   "source": [
    "## Immutable\n",
    "- Tuple bersifat immutable, yang berarti Anda tidak dapat mengubah elemen tuple setelah tuple dibuat. Operasi berikut akan menghasilkan error:"
   ]
  },
  {
   "cell_type": "code",
   "execution_count": 35,
   "id": "af842969",
   "metadata": {},
   "outputs": [],
   "source": [
    "# my_tuple = ('apel', 'pisang', 'jeruk')\n",
    "# my_tuple[0] = 'mangga'  # Error: TypeError: 'tuple' object does not support item assignment"
   ]
  },
  {
   "cell_type": "markdown",
   "id": "0397234e",
   "metadata": {},
   "source": [
    "## Fungsi len() untuk Tuple\n",
    "- Anda dapat menggunakan fungsi ***len()*** untuk mengetahui jumlah elemen dalam tuple."
   ]
  },
  {
   "cell_type": "code",
   "execution_count": 36,
   "id": "c15673ce",
   "metadata": {},
   "outputs": [
    {
     "name": "stdout",
     "output_type": "stream",
     "text": [
      "3\n"
     ]
    }
   ],
   "source": [
    "my_tuple = ('apel', 'pisang', 'jeruk')\n",
    "print(len(my_tuple))  # Output: 3"
   ]
  },
  {
   "cell_type": "markdown",
   "id": "ccafe91f",
   "metadata": {},
   "source": [
    " ## Tuple Concatenation\n",
    " - Anda dapat menggabungkan beberapa tuple untuk membuat tuple baru."
   ]
  },
  {
   "cell_type": "code",
   "execution_count": 37,
   "id": "d75d742f",
   "metadata": {},
   "outputs": [
    {
     "name": "stdout",
     "output_type": "stream",
     "text": [
      "(1, 2, 3, 4, 5, 6)\n"
     ]
    }
   ],
   "source": [
    "tuple1 = (1, 2, 3)\n",
    "tuple2 = (4, 5, 6)\n",
    "concat_tuple = tuple1 + tuple2\n",
    "print(concat_tuple)  # Output: (1, 2, 3, 4, 5, 6)"
   ]
  },
  {
   "cell_type": "markdown",
   "id": "e8603478",
   "metadata": {},
   "source": [
    "## Fungsi min() dan max()\n",
    "- Fungsi ***min()*** dan ***max()*** digunakan untuk menemukan elemen terkecil dan terbesar dalam tuple. Kedua fungsi ini hanya dapat digunakan pada tuple yang berisi elemen yang dapat dibandingkan."
   ]
  },
  {
   "cell_type": "code",
   "execution_count": 38,
   "id": "d61c75d4",
   "metadata": {},
   "outputs": [
    {
     "name": "stdout",
     "output_type": "stream",
     "text": [
      "1\n",
      "5\n"
     ]
    }
   ],
   "source": [
    "my_tuple = (1, 2, 3, 4, 5)\n",
    "print(min(my_tuple))  # Output: 1\n",
    "print(max(my_tuple))  # Output: 5"
   ]
  },
  {
   "cell_type": "markdown",
   "id": "019a3aa7",
   "metadata": {},
   "source": [
    "## Mengubah Tuple menjadi List dan sebaliknya\n",
    "- Anda dapat mengubah tuple menjadi list atau sebaliknya dengan menggunakan fungsi ***list()*** dan ***tuple()***"
   ]
  },
  {
   "cell_type": "code",
   "execution_count": 39,
   "id": "99ac5d49",
   "metadata": {},
   "outputs": [
    {
     "name": "stdout",
     "output_type": "stream",
     "text": [
      "['apel', 'pisang', 'jeruk']\n",
      "('mangga', 'anggur', 'semangka')\n"
     ]
    }
   ],
   "source": [
    "my_tuple = ('apel', 'pisang', 'jeruk')\n",
    "my_list = list(my_tuple)\n",
    "print(my_list)  # Output: ['apel', 'pisang', 'jeruk']\n",
    "\n",
    "my_list = ['mangga', 'anggur', 'semangka']\n",
    "my_tuple = tuple(my_list)\n",
    "print(my_tuple)  # Output: ('mangga', 'anggur', 'semangka')"
   ]
  },
  {
   "cell_type": "markdown",
   "id": "c77b2444",
   "metadata": {},
   "source": [
    "## Unpacking Tuple\n",
    "- Tuple unpacking adalah proses untuk mengekstrak elemen tuple ke dalam variabel terpisah."
   ]
  },
  {
   "cell_type": "code",
   "execution_count": 40,
   "id": "4415ed95",
   "metadata": {},
   "outputs": [
    {
     "name": "stdout",
     "output_type": "stream",
     "text": [
      "Budi\n",
      "25\n",
      "Programmer\n"
     ]
    }
   ],
   "source": [
    "my_tuple = ('Budi', 25, 'Programmer')\n",
    "nama, umur, pekerjaan = my_tuple\n",
    "\n",
    "print(nama)       # Output: Budi\n",
    "print(umur)       # Output: 25\n",
    "print(pekerjaan)  # Output: Programmer"
   ]
  },
  {
   "cell_type": "markdown",
   "id": "48d83b68",
   "metadata": {},
   "source": [
    "## Enumerate\n",
    "- Fungsi ***enumerate()*** dapat digunakan untuk mengiterasi tuple sambil mendapatkan indeks dan elemen pada posisi tersebut."
   ]
  },
  {
   "cell_type": "code",
   "execution_count": 41,
   "id": "32b97a31",
   "metadata": {
    "scrolled": true
   },
   "outputs": [
    {
     "name": "stdout",
     "output_type": "stream",
     "text": [
      "1. apel\n",
      "2. pisang\n",
      "3. jeruk\n",
      "4. mangga\n"
     ]
    }
   ],
   "source": [
    "fruits = ('apel', 'pisang', 'jeruk', 'mangga')\n",
    "\n",
    "for index, fruit in enumerate(fruits):\n",
    "    print(f\"{index + 1}. {fruit}\")"
   ]
  },
  {
   "cell_type": "markdown",
   "id": "da24d759",
   "metadata": {},
   "source": [
    "# Soal Tuple"
   ]
  },
  {
   "cell_type": "markdown",
   "id": "9d7245a0",
   "metadata": {},
   "source": [
    "Berikut merupakan soal latihan yang harus di jawab ketika kelas berlangsung\n",
    "\n",
    "0) Jelaskan Apa Itu Tuples\n",
    "\n",
    "1) Pendahuluan Tuples: Buatlah 5 element tuple yang berisi nama-nama merek elektronik yang anda ketahui.\n",
    "\n",
    "2) Akses Elemen Tuples: Diberikan tuple angka = (10, 20, 30, 40, 50), akses elemen ketiga dari tuple tersebut.\n",
    "\n",
    "3) Manipulasi Tuples: Diberikan tuple buah = ('apel', 'jeruk', 'mangga'), jelaskan mengapa Anda tidak dapat menambahkan elemen 'pisang' ke dalam tuple.\n",
    "\n",
    "4) Penggabungan Tuples: Gabungkan dua tuple berikut menjadi satu tuple baru: tuple1 = (1, 2, 3) dan tuple2 = (4, 5, 6).\n",
    "\n",
    "5) Fungsi Tuple: Gunakan fungsi len() untuk menghitung panjang dari tuple hewan = ('kucing', 'anjing', 'kelinci'), dan berapa jumlah element dalam tuple?.\n",
    "\n",
    "6) Slicing Tuples: Diberikan tuple angka = (0, 1, 2, 3, 4, 5, 6, 7, 8, 9), ambil elemen dari indeks 2 hingga 7 (ekslusif)."
   ]
  },
  {
   "cell_type": "code",
   "execution_count": 8,
   "id": "378db3ee",
   "metadata": {},
   "outputs": [
    {
     "data": {
      "text/plain": [
       "tuple"
      ]
     },
     "execution_count": 8,
     "metadata": {},
     "output_type": "execute_result"
    }
   ],
   "source": [
    "# SOAL NO 1\n",
    "perabot = ('tv','radio','kulkas','mixer','oven')\n",
    "type(perabot)"
   ]
  },
  {
   "cell_type": "code",
   "execution_count": 9,
   "id": "d737a6c0",
   "metadata": {},
   "outputs": [
    {
     "name": "stdout",
     "output_type": "stream",
     "text": [
      "30\n"
     ]
    }
   ],
   "source": [
    "# SOAL NO 2\n",
    "angka = (10, 20, 30, 40, 50)\n",
    "print(angka[2])"
   ]
  },
  {
   "cell_type": "code",
   "execution_count": 11,
   "id": "844a1634",
   "metadata": {},
   "outputs": [
    {
     "ename": "AttributeError",
     "evalue": "'tuple' object has no attribute 'append'",
     "output_type": "error",
     "traceback": [
      "\u001b[1;31m---------------------------------------------------------------------------\u001b[0m",
      "\u001b[1;31mAttributeError\u001b[0m                            Traceback (most recent call last)",
      "Cell \u001b[1;32mIn[11], line 3\u001b[0m\n\u001b[0;32m      1\u001b[0m \u001b[38;5;66;03m# SOAL NO 3\u001b[39;00m\n\u001b[0;32m      2\u001b[0m buah \u001b[38;5;241m=\u001b[39m (\u001b[38;5;124m'\u001b[39m\u001b[38;5;124mapel\u001b[39m\u001b[38;5;124m'\u001b[39m,\u001b[38;5;124m'\u001b[39m\u001b[38;5;124mjeruk\u001b[39m\u001b[38;5;124m'\u001b[39m,\u001b[38;5;124m'\u001b[39m\u001b[38;5;124mmangga\u001b[39m\u001b[38;5;124m'\u001b[39m)\n\u001b[1;32m----> 3\u001b[0m \u001b[43mbuah\u001b[49m\u001b[38;5;241;43m.\u001b[39;49m\u001b[43mappend\u001b[49m(\u001b[38;5;124m'\u001b[39m\u001b[38;5;124mpisang\u001b[39m\u001b[38;5;124m'\u001b[39m)\n",
      "\u001b[1;31mAttributeError\u001b[0m: 'tuple' object has no attribute 'append'"
     ]
    }
   ],
   "source": [
    "# SOAL NO 3\n",
    "buah = ('apel','jeruk','mangga')\n",
    "buah.append('pisang')"
   ]
  },
  {
   "cell_type": "markdown",
   "id": "af8cf0db",
   "metadata": {},
   "source": [
    "tidak bisa menambahkan elemen dalam tuple karena sifatnya immutable (tidak bisa dirubah)"
   ]
  },
  {
   "cell_type": "code",
   "execution_count": 15,
   "id": "5ed1969c",
   "metadata": {},
   "outputs": [
    {
     "name": "stdout",
     "output_type": "stream",
     "text": [
      "(1, 2, 3, 4, 5, 6)\n"
     ]
    }
   ],
   "source": [
    "# SOAL NO 4\n",
    "tuple1 = (1, 2, 3)\n",
    "tuple2 = (4, 5, 6)\n",
    "tuple_baru = tuple1 + tuple2\n",
    "print(tuple_baru)"
   ]
  },
  {
   "cell_type": "code",
   "execution_count": 13,
   "id": "9e611d91",
   "metadata": {},
   "outputs": [
    {
     "name": "stdout",
     "output_type": "stream",
     "text": [
      "3\n"
     ]
    }
   ],
   "source": [
    "# SOAL NO 5\n",
    "hewan = ('kucing', 'anjing', 'kelinci')\n",
    "print(len(hewan))"
   ]
  },
  {
   "cell_type": "code",
   "execution_count": 18,
   "id": "b92d0f8a",
   "metadata": {},
   "outputs": [
    {
     "name": "stdout",
     "output_type": "stream",
     "text": [
      "(2, 3, 4, 5, 6)\n"
     ]
    }
   ],
   "source": [
    "# SOAL NO 6\n",
    "angka2 = (0, 1, 2, 3, 4, 5, 6, 7, 8, 9)\n",
    "print(angka2[2:7])"
   ]
  },
  {
   "cell_type": "markdown",
   "id": "9d5cd114",
   "metadata": {},
   "source": [
    "# Sets Data Type"
   ]
  },
  {
   "cell_type": "markdown",
   "id": "0f377e84",
   "metadata": {},
   "source": [
    "# Membuat Sets \n",
    "- Membuat set di Python sangat mudah. Anda hanya perlu menggunakan tanda kurung kurawal dan memisahkan setiap elemen dengan koma. Anda juga bisa menggunakan fungsi ***set()*** untuk membuat set kosong atau mengonversi struktur data lain ke set."
   ]
  },
  {
   "cell_type": "code",
   "execution_count": 42,
   "id": "2ae6303c",
   "metadata": {},
   "outputs": [],
   "source": [
    "# Contoh pembuatan set\n",
    "my_set = {1, 2, 3}\n",
    "\n",
    "# Membuat set kosong\n",
    "empty_set = set()\n",
    "\n",
    "# Mengonversi list ke set\n",
    "my_list = [1, 2, 3, 3, 4, 4]\n",
    "my_set = set(my_list)  # Hasil: {1, 2, 3, 4}"
   ]
  },
  {
   "cell_type": "markdown",
   "id": "a8d6fcda",
   "metadata": {},
   "source": [
    "## Menambahkan Elemen ke Sets\n",
    "- Anda dapat menambahkan elemen ke set menggunakan metode ***add().***"
   ]
  },
  {
   "cell_type": "code",
   "execution_count": 43,
   "id": "0f22d8cb",
   "metadata": {},
   "outputs": [
    {
     "name": "stdout",
     "output_type": "stream",
     "text": [
      "{1, 2, 3, 4}\n"
     ]
    }
   ],
   "source": [
    "my_set = {1, 2, 3}\n",
    "my_set.add(4)\n",
    "print(my_set)  # Output: {1, 2, 3, 4}"
   ]
  },
  {
   "cell_type": "markdown",
   "id": "38dcaacc",
   "metadata": {},
   "source": [
    "## Menghapus Elemen dari Sets\n",
    "- Anda dapat menghapus elemen dari set menggunakan metode ***remove()*** atau ***discard().***"
   ]
  },
  {
   "cell_type": "code",
   "execution_count": 44,
   "id": "eb421fd4",
   "metadata": {},
   "outputs": [
    {
     "name": "stdout",
     "output_type": "stream",
     "text": [
      "{1, 2, 4}\n",
      "{1, 2}\n"
     ]
    }
   ],
   "source": [
    "my_set = {1, 2, 3, 4}\n",
    "\n",
    "# Menggunakan remove() - akan menghasilkan KeyError jika elemen tidak ditemukan\n",
    "my_set.remove(3)\n",
    "print(my_set)  # Output: {1, 2, 4}\n",
    "\n",
    "# Menggunakan discard() - tidak menghasilkan error jika elemen tidak ditemukan\n",
    "my_set.discard(4)\n",
    "print(my_set)  # Output: {1, 2}"
   ]
  },
  {
   "cell_type": "markdown",
   "id": "616f75f6",
   "metadata": {},
   "source": [
    "## Operasi Set\n",
    "- Python mendukung beberapa operasi set seperti `union`, `intersection`, `difference`, dan `symmetric difference`."
   ]
  },
  {
   "cell_type": "code",
   "execution_count": 45,
   "id": "bf456bfc",
   "metadata": {},
   "outputs": [
    {
     "name": "stdout",
     "output_type": "stream",
     "text": [
      "{1, 2, 3, 4, 5, 6}\n",
      "{3, 4}\n",
      "{1, 2}\n",
      "{1, 2, 5, 6}\n"
     ]
    }
   ],
   "source": [
    "A = {1, 2, 3, 4}\n",
    "B = {3, 4, 5, 6}\n",
    "\n",
    "# Union\n",
    "union_set = A | B\n",
    "print(union_set)  # Output: {1, 2, 3, 4, 5, 6}\n",
    "\n",
    "# Intersection\n",
    "intersection_set = A & B\n",
    "print(intersection_set)  # Output: {3, 4}\n",
    "\n",
    "# Difference\n",
    "difference_set = A - B\n",
    "print(difference_set)  # Output: {1, 2}\n",
    "\n",
    "# Symmetric Difference\n",
    "symmetric_difference_set = A ^ B\n",
    "print(symmetric_difference_set)  # Output: {1, 2, 5, 6}"
   ]
  },
  {
   "cell_type": "markdown",
   "id": "78abc68b",
   "metadata": {},
   "source": [
    "## Fungsi len() untuk Set\n",
    "- Anda dapat menggunakan fungsi ***len()*** untuk mengetahui jumlah elemen dalam set."
   ]
  },
  {
   "cell_type": "code",
   "execution_count": 46,
   "id": "a4671647",
   "metadata": {},
   "outputs": [
    {
     "name": "stdout",
     "output_type": "stream",
     "text": [
      "4\n"
     ]
    }
   ],
   "source": [
    "my_set = {1, 2, 3, 4}\n",
    "print(len(my_set))  # Output: 4"
   ]
  },
  {
   "cell_type": "markdown",
   "id": "9fa84060",
   "metadata": {},
   "source": [
    "## Mengetahui Keanggotaan Elemen dalam Set\n",
    "- Anda dapat mengecek apakah suatu elemen ada dalam set menggunakan operator in."
   ]
  },
  {
   "cell_type": "code",
   "execution_count": 47,
   "id": "86e94a5e",
   "metadata": {},
   "outputs": [
    {
     "name": "stdout",
     "output_type": "stream",
     "text": [
      "True\n",
      "False\n"
     ]
    }
   ],
   "source": [
    "my_set = {1, 2, 3, 4}\n",
    "\n",
    "# Mengecek keanggotaan elemen\n",
    "print(1 in my_set)  # Output: True\n",
    "print(5 in my_set)  # Output: False"
   ]
  },
  {
   "cell_type": "markdown",
   "id": "3b0fdacd",
   "metadata": {},
   "source": [
    "## Iterasi pada Set\n",
    "- Anda dapat mengiterasi elemen-elemen dalam set menggunakan perulangan for."
   ]
  },
  {
   "cell_type": "code",
   "execution_count": 48,
   "id": "3cd58af5",
   "metadata": {
    "scrolled": false
   },
   "outputs": [
    {
     "name": "stdout",
     "output_type": "stream",
     "text": [
      "apel\n",
      "jeruk\n",
      "pisang\n"
     ]
    }
   ],
   "source": [
    "my_set = {'apel', 'pisang', 'jeruk'}\n",
    "\n",
    "for fruit in my_set:\n",
    "    print(fruit)"
   ]
  },
  {
   "cell_type": "markdown",
   "id": "ff0146da",
   "metadata": {},
   "source": [
    "# Soal Set"
   ]
  },
  {
   "cell_type": "markdown",
   "id": "c6b94458",
   "metadata": {},
   "source": [
    "Berikut merupakan soal latihan yang harus di jawab ketika kelas berlangsung\n",
    "\n",
    "0) Jelaskan Apa Itu Set\n",
    "\n",
    "1) Pendahuluan Sets: Buatlah sebuah set yang berisi elemen-elemen berikut: 'apel', 3, 2.5.\n",
    "\n",
    "2) Akses Elemen Sets: Diberikan set elemen = {10, 'mangga', 3.14}, jelaskan mengapa Anda tidak dapat mengakses elemen kedua dari set tersebut.\n",
    "\n",
    "3) Manipulasi Sets: Diberikan set angka = {1, 2, 3}, tambahkan elemen 4 ke dalam set.\n",
    "\n",
    "4) Operasi Sets: Diberikan dua set set1 = {1, 2, 3, 'apel'} dan set2 = {2, 3, 4, 'mangga'}, temukan irisan (intersection) dari kedua set tersebut.\n",
    "\n",
    "5) Fungsi dan Metode Sets: Gunakan metode add() untuk menambahkan elemen 'jeruk' ke dalam set buah = {'apel', 'mangga', 'pisang'}.\n",
    "\n",
    "6) Perulangan Sets: Gunakan perulangan for untuk mencetak semua elemen dalam set kategori = {'makanan', 'minuman', 'snack'}."
   ]
  },
  {
   "cell_type": "code",
   "execution_count": 23,
   "id": "8ba09330",
   "metadata": {},
   "outputs": [
    {
     "name": "stdout",
     "output_type": "stream",
     "text": [
      "<class 'set'>\n",
      "{2.5, 3, 'apel'}\n"
     ]
    }
   ],
   "source": [
    "# SOAL 1\n",
    "my_Set = {'apel',3, 2.5}\n",
    "print(type(my_Set))\n",
    "print(my_Set)"
   ]
  },
  {
   "cell_type": "code",
   "execution_count": 25,
   "id": "da8e344a",
   "metadata": {},
   "outputs": [
    {
     "ename": "TypeError",
     "evalue": "'set' object is not subscriptable",
     "output_type": "error",
     "traceback": [
      "\u001b[1;31m---------------------------------------------------------------------------\u001b[0m",
      "\u001b[1;31mTypeError\u001b[0m                                 Traceback (most recent call last)",
      "Cell \u001b[1;32mIn[25], line 3\u001b[0m\n\u001b[0;32m      1\u001b[0m \u001b[38;5;66;03m# SOAL 2\u001b[39;00m\n\u001b[0;32m      2\u001b[0m my_Set2 \u001b[38;5;241m=\u001b[39m {\u001b[38;5;241m10\u001b[39m, \u001b[38;5;124m'\u001b[39m\u001b[38;5;124mmangga\u001b[39m\u001b[38;5;124m'\u001b[39m, \u001b[38;5;241m3.14\u001b[39m}\n\u001b[1;32m----> 3\u001b[0m \u001b[38;5;28mprint\u001b[39m(\u001b[43mmy_Set2\u001b[49m\u001b[43m[\u001b[49m\u001b[38;5;241;43m2\u001b[39;49m\u001b[43m]\u001b[49m)\n",
      "\u001b[1;31mTypeError\u001b[0m: 'set' object is not subscriptable"
     ]
    }
   ],
   "source": [
    "# SOAL 2\n",
    "my_Set2 = {10, 'mangga', 3.14}\n",
    "print(my_Set2[2])"
   ]
  },
  {
   "cell_type": "markdown",
   "id": "b40b07e3",
   "metadata": {},
   "source": [
    "Penjelasan\n",
    "Error \"set' object is not subscriptable\" terjadi ketika Anda mencoba mengakses elemen dalam objek set menggunakan operator subscript ([]). Namun, objek set dalam Python tidak mendukung pengindeksan langsung seperti yang didukung oleh list atau tuple."
   ]
  },
  {
   "cell_type": "code",
   "execution_count": 30,
   "id": "a2e793f0",
   "metadata": {},
   "outputs": [
    {
     "name": "stdout",
     "output_type": "stream",
     "text": [
      "{1, 2, 3, 4}\n"
     ]
    },
    {
     "data": {
      "text/plain": [
       "{1, 2, 3, 4}"
      ]
     },
     "execution_count": 30,
     "metadata": {},
     "output_type": "execute_result"
    }
   ],
   "source": [
    "# SOAL 3\n",
    "my_Set3 = {1, 2, 3}\n",
    "my_Set3.add(4)\n",
    "print(my_Set3)\n",
    "my_Set3"
   ]
  },
  {
   "cell_type": "code",
   "execution_count": 32,
   "id": "0a019aee",
   "metadata": {},
   "outputs": [
    {
     "name": "stdout",
     "output_type": "stream",
     "text": [
      "{2, 3}\n"
     ]
    }
   ],
   "source": [
    "# SOAL 4\n",
    "set1 = {1, 2, 3, 'apel'}\n",
    "set2 = {2, 3, 4, 'mangga'}\n",
    "# Intersect\n",
    "set_intersect = set1 & set2\n",
    "print(set_intersect)"
   ]
  },
  {
   "cell_type": "code",
   "execution_count": 34,
   "id": "d6071df0",
   "metadata": {},
   "outputs": [
    {
     "data": {
      "text/plain": [
       "{'apel', 'jeruk', 'mangga', 'pisang'}"
      ]
     },
     "execution_count": 34,
     "metadata": {},
     "output_type": "execute_result"
    }
   ],
   "source": [
    "# SOAL 5\n",
    "my_Set4 = {'apel', 'mangga', 'pisang'}\n",
    "my_Set4.add('jeruk')\n",
    "my_Set4"
   ]
  },
  {
   "cell_type": "code",
   "execution_count": 35,
   "id": "14957ab8",
   "metadata": {},
   "outputs": [
    {
     "name": "stdout",
     "output_type": "stream",
     "text": [
      "makanan\n",
      "minuman\n",
      "snack\n"
     ]
    }
   ],
   "source": [
    "# SOAL 6\n",
    "kategori = {'makanan', 'minuman', 'snack'}\n",
    "for x in kategori:\n",
    "    print(x)"
   ]
  },
  {
   "cell_type": "markdown",
   "id": "83d2518b",
   "metadata": {},
   "source": [
    "# Boolean Data Type"
   ]
  },
  {
   "cell_type": "markdown",
   "id": "1425d7f8",
   "metadata": {},
   "source": [
    "## Relational Operator \n",
    "\n",
    "***Operator relasional*** digunakan untuk membandingkan dua nilai dan menghasilkan suatu kondisi boolean True atau False berdasarkan nilai perbandingan yang diberikan.\"\n",
    "\n",
    "- ***Sama dengan (==)***: Menghasilkan True jika kedua nilai sama\n",
    "- ***Tidak sama dengan (!=)***: Menghasilkan True jika kedua nilai tidak sama\n",
    "- ***Lebih besar (>)***: Menghasilkan True jika nilai pertama lebih besar dari nilai kedua\n",
    "- ***Lebih kecil (<)***: Menghasilkan True jika nilai pertama lebih kecil dari nilai kedua\n",
    "- ***Lebih besar atau sama dengan (>=)***: Menghasilkan True jika nilai pertama lebih besar atau sama dengan nilai kedua\n",
    "- ***Lebih kecil atau sama dengan (<=)***: Menghasilkan True jika nilai pertama lebih kecil atau sama dengan nilai kedua"
   ]
  },
  {
   "cell_type": "code",
   "execution_count": 49,
   "id": "ff7e9b47",
   "metadata": {},
   "outputs": [
    {
     "name": "stdout",
     "output_type": "stream",
     "text": [
      "False\n",
      "True\n",
      "True\n",
      "False\n",
      "False\n",
      "True\n"
     ]
    }
   ],
   "source": [
    "x = 5\n",
    "y = 10\n",
    "\n",
    "print(x == y)  # Output: False\n",
    "print(x != y)  # Output: True\n",
    "print(x < y)   # Output: True\n",
    "print(x > y)   # Output: False\n",
    "print(x >= y)  # Output: False\n",
    "print(x <= y)  # Output: True"
   ]
  },
  {
   "cell_type": "markdown",
   "id": "366369f4",
   "metadata": {},
   "source": [
    "## Logical Operator \n",
    "\n",
    "***Operator logika*** digunakan untuk menggabungkan atau membandingkan pernyataan boolean.\n",
    "\n",
    "- ***and***: Menghasilkan True jika kedua pernyataan benar.\n",
    "- ***or***: Menghasilkan True jika salah satu pernyataan benar.\n",
    "- ***not***: Menghasilkan True jika pernyataan tersebut salah."
   ]
  },
  {
   "cell_type": "code",
   "execution_count": 50,
   "id": "29819614",
   "metadata": {},
   "outputs": [
    {
     "name": "stdout",
     "output_type": "stream",
     "text": [
      "False\n",
      "True\n",
      "False\n",
      "True\n"
     ]
    }
   ],
   "source": [
    "x = True\n",
    "y = False\n",
    "\n",
    "print(x and y)  # Output: False\n",
    "print(x or y)   # Output: True\n",
    "print(not x)    # Output: False\n",
    "print(not y)    # Output: True"
   ]
  },
  {
   "cell_type": "markdown",
   "id": "a5a2bc57",
   "metadata": {},
   "source": [
    "## Penggunaan Boolean dalam Kondisional\n",
    "- Boolean sering digunakan dalam pengujian kondisi menggunakan pernyataan if, elif, dan else."
   ]
  },
  {
   "cell_type": "code",
   "execution_count": 51,
   "id": "0b2853a8",
   "metadata": {},
   "outputs": [
    {
     "name": "stdout",
     "output_type": "stream",
     "text": [
      "x lebih besar dari 5\n"
     ]
    }
   ],
   "source": [
    "x = 10\n",
    "\n",
    "if x > 5:\n",
    "    print(\"x lebih besar dari 5\")\n",
    "else:\n",
    "    print(\"x lebih kecil atau sama dengan 5\")"
   ]
  },
  {
   "cell_type": "markdown",
   "id": "9903e62a",
   "metadata": {},
   "source": [
    "# Soal Boolean"
   ]
  },
  {
   "cell_type": "markdown",
   "id": "0ad32671",
   "metadata": {},
   "source": [
    "## Conditional Boolean\n",
    "- Diberikan tiga variabel dengan nilai sebagai berikut:\n",
    "\n",
    "- kategori = 'makanan'\n",
    "- harga = 15000\n",
    "- berat = 0.5  # dalam kilogram\n",
    "\n",
    "Buatlah sebuah kondisional yang mengevaluasi apakah kategori sama dengan 'makanan', harga lebih kecil atau sama dengan 20000, dan berat lebih besar dari 0.3. Jika kondisi ini terpenuhi, cetak \"Item diterima\", jika tidak, cetak \"Item ditolak\"."
   ]
  },
  {
   "cell_type": "code",
   "execution_count": 36,
   "id": "d7c4228c",
   "metadata": {},
   "outputs": [
    {
     "name": "stdout",
     "output_type": "stream",
     "text": [
      "item diterima\n"
     ]
    }
   ],
   "source": [
    "# Jawaban Soal Conditional Boolean\n",
    "kategori = 'makanan'\n",
    "harga = 15000\n",
    "berat = 0.5\n",
    "\n",
    "if kategori == 'makanan' and harga <= 20000 and berat > 0.3:\n",
    "    print('item diterima')\n",
    "else:\n",
    "    print('item ditolak')"
   ]
  },
  {
   "cell_type": "markdown",
   "id": "0a4afc85",
   "metadata": {},
   "source": [
    "<!-- kategori = 'makanan'\n",
    "harga = 15000\n",
    "berat = 0.5  # dalam kilogram\n",
    "\n",
    "if kategori == 'makanan' and harga <= 20000 and berat > 0.3:\n",
    "    print(\"Item diterima\")\n",
    "else:\n",
    "    print(\"Item ditolak\") -->"
   ]
  },
  {
   "cell_type": "markdown",
   "id": "68ce0575",
   "metadata": {},
   "source": [
    "## Boolean Relational dan Logical Operator\n",
    "Pada contoh di bawah, kita membuat DataFrame dengan data mahasiswa yang mencakup nama, umur, dan IPK. Kemudian, kita menggunakan operator relasional dan logika untuk menyaring data berdasarkan kriteria tertentu (umur dan IPK)."
   ]
  },
  {
   "cell_type": "code",
   "execution_count": 1,
   "id": "45341503",
   "metadata": {},
   "outputs": [
    {
     "data": {
      "text/html": [
       "<div>\n",
       "<style scoped>\n",
       "    .dataframe tbody tr th:only-of-type {\n",
       "        vertical-align: middle;\n",
       "    }\n",
       "\n",
       "    .dataframe tbody tr th {\n",
       "        vertical-align: top;\n",
       "    }\n",
       "\n",
       "    .dataframe thead th {\n",
       "        text-align: right;\n",
       "    }\n",
       "</style>\n",
       "<table border=\"1\" class=\"dataframe\">\n",
       "  <thead>\n",
       "    <tr style=\"text-align: right;\">\n",
       "      <th></th>\n",
       "      <th>Nama</th>\n",
       "      <th>Umur</th>\n",
       "      <th>IPK</th>\n",
       "    </tr>\n",
       "  </thead>\n",
       "  <tbody>\n",
       "    <tr>\n",
       "      <th>0</th>\n",
       "      <td>Budi</td>\n",
       "      <td>21</td>\n",
       "      <td>3.5</td>\n",
       "    </tr>\n",
       "    <tr>\n",
       "      <th>1</th>\n",
       "      <td>Ani</td>\n",
       "      <td>20</td>\n",
       "      <td>3.8</td>\n",
       "    </tr>\n",
       "    <tr>\n",
       "      <th>2</th>\n",
       "      <td>Rina</td>\n",
       "      <td>23</td>\n",
       "      <td>3.3</td>\n",
       "    </tr>\n",
       "    <tr>\n",
       "      <th>3</th>\n",
       "      <td>Dedi</td>\n",
       "      <td>19</td>\n",
       "      <td>3.9</td>\n",
       "    </tr>\n",
       "    <tr>\n",
       "      <th>4</th>\n",
       "      <td>Eko</td>\n",
       "      <td>22</td>\n",
       "      <td>3.1</td>\n",
       "    </tr>\n",
       "  </tbody>\n",
       "</table>\n",
       "</div>"
      ],
      "text/plain": [
       "   Nama  Umur  IPK\n",
       "0  Budi    21  3.5\n",
       "1   Ani    20  3.8\n",
       "2  Rina    23  3.3\n",
       "3  Dedi    19  3.9\n",
       "4   Eko    22  3.1"
      ]
     },
     "execution_count": 1,
     "metadata": {},
     "output_type": "execute_result"
    }
   ],
   "source": [
    "import pandas as pd\n",
    "data = {\n",
    "    'Nama': ['Budi', 'Ani', 'Rina', 'Dedi', 'Eko'],\n",
    "    'Umur': [21, 20, 23, 19, 22],\n",
    "    'IPK': [3.5, 3.8, 3.3, 3.9, 3.1]\n",
    "}\n",
    "\n",
    "df = pd.DataFrame(data)\n",
    "df"
   ]
  },
  {
   "cell_type": "markdown",
   "id": "c1a0749d",
   "metadata": {},
   "source": [
    "### ***Dari data diatas***\n",
    "\n",
    "- buatlah relational operator dengan umur lebih dari 20 \n",
    "- buatlah logical operator dengan umur lebih dari 20 dan IPK >= 3.5 "
   ]
  },
  {
   "cell_type": "code",
   "execution_count": 17,
   "id": "26c28eea",
   "metadata": {},
   "outputs": [
    {
     "name": "stdout",
     "output_type": "stream",
     "text": [
      "   Nama  Umur  IPK\n",
      "0  Budi    21  3.5\n",
      "2  Rina    23  3.3\n",
      "4   Eko    22  3.1\n"
     ]
    }
   ],
   "source": [
    "kondisi_1 = df['Umur'] > 20\n",
    "print(df[kondisi_1])"
   ]
  },
  {
   "cell_type": "code",
   "execution_count": 22,
   "id": "fcfc1639",
   "metadata": {},
   "outputs": [
    {
     "name": "stdout",
     "output_type": "stream",
     "text": [
      "   Nama  Umur  IPK\n",
      "0  Budi    21  3.5\n"
     ]
    }
   ],
   "source": [
    "kondisi_2 = (df['Umur']>20) & (df['IPK']>=3.5)\n",
    "print(df[kondisi_2])"
   ]
  }
 ],
 "metadata": {
  "kernelspec": {
   "display_name": "Python 3 (ipykernel)",
   "language": "python",
   "name": "python3"
  },
  "language_info": {
   "codemirror_mode": {
    "name": "ipython",
    "version": 3
   },
   "file_extension": ".py",
   "mimetype": "text/x-python",
   "name": "python",
   "nbconvert_exporter": "python",
   "pygments_lexer": "ipython3",
   "version": "3.9.16"
  },
  "toc": {
   "base_numbering": 1,
   "nav_menu": {},
   "number_sections": true,
   "sideBar": true,
   "skip_h1_title": false,
   "title_cell": "Table of Contents",
   "title_sidebar": "Contents",
   "toc_cell": false,
   "toc_position": {},
   "toc_section_display": true,
   "toc_window_display": true
  }
 },
 "nbformat": 4,
 "nbformat_minor": 5
}
